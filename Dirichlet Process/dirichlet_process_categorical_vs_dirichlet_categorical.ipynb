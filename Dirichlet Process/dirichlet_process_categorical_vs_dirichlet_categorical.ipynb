{
 "cells": [
  {
   "cell_type": "code",
   "execution_count": 1,
   "id": "15db7353",
   "metadata": {},
   "outputs": [],
   "source": [
    "import numpy as np\n",
    "from scipy.special import gamma"
   ]
  },
  {
   "cell_type": "code",
   "execution_count": 2,
   "id": "69543b93",
   "metadata": {},
   "outputs": [],
   "source": [
    "alphas = np.array([0.2, 0.4, 0.1, 0.7])\n",
    "A = alphas.sum()\n",
    "cs = np.array([5, 10, 3, 14])\n",
    "C = cs.sum()"
   ]
  },
  {
   "cell_type": "code",
   "execution_count": 3,
   "id": "68ecfc20",
   "metadata": {},
   "outputs": [],
   "source": [
    "dp = ((gamma(A) * A ** cs.shape[0])/gamma(C + A)) * gamma(cs).prod()"
   ]
  },
  {
   "cell_type": "code",
   "execution_count": 4,
   "id": "0d9ecb1f",
   "metadata": {},
   "outputs": [],
   "source": [
    "dirichlet_cat = (gamma(A)/gamma(alphas).prod()) * (gamma(cs + alphas).prod()/gamma(C + A))"
   ]
  },
  {
   "cell_type": "code",
   "execution_count": 5,
   "id": "f6e0ccbf",
   "metadata": {},
   "outputs": [
    {
     "data": {
      "text/plain": [
       "1.679888550525177e-20"
      ]
     },
     "execution_count": 5,
     "metadata": {},
     "output_type": "execute_result"
    }
   ],
   "source": [
    "dirichlet_cat"
   ]
  },
  {
   "cell_type": "code",
   "execution_count": 6,
   "id": "d77c63f0",
   "metadata": {},
   "outputs": [
    {
     "data": {
      "text/plain": [
       "3.482194035973039e-19"
      ]
     },
     "execution_count": 6,
     "metadata": {},
     "output_type": "execute_result"
    }
   ],
   "source": [
    "dp"
   ]
  },
  {
   "cell_type": "code",
   "execution_count": null,
   "id": "48cd3f24",
   "metadata": {},
   "outputs": [],
   "source": []
  }
 ],
 "metadata": {
  "kernelspec": {
   "display_name": "Python 3 (ipykernel)",
   "language": "python",
   "name": "python3"
  },
  "language_info": {
   "codemirror_mode": {
    "name": "ipython",
    "version": 3
   },
   "file_extension": ".py",
   "mimetype": "text/x-python",
   "name": "python",
   "nbconvert_exporter": "python",
   "pygments_lexer": "ipython3",
   "version": "3.8.10"
  }
 },
 "nbformat": 4,
 "nbformat_minor": 5
}
