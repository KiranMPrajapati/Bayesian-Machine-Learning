{
 "cells": [
  {
   "cell_type": "code",
   "execution_count": 1,
   "id": "a79f19cd",
   "metadata": {},
   "outputs": [],
   "source": [
    "import numpy as np\n",
    "from scipy.special import gamma"
   ]
  },
  {
   "cell_type": "code",
   "execution_count": 2,
   "id": "42f574a8",
   "metadata": {},
   "outputs": [],
   "source": [
    "counts = [5, 10, 3, 14]"
   ]
  },
  {
   "cell_type": "code",
   "execution_count": 3,
   "id": "b4b62e82",
   "metadata": {},
   "outputs": [],
   "source": [
    "alpha_i = [0.2, 0.4, 0.1, 0.7]"
   ]
  },
  {
   "cell_type": "code",
   "execution_count": 4,
   "id": "ddd7e306",
   "metadata": {},
   "outputs": [],
   "source": [
    "alpha = sum(alpha_i)\n",
    "A = sum(alpha_i)"
   ]
  },
  {
   "cell_type": "code",
   "execution_count": 21,
   "id": "b2cf42de",
   "metadata": {},
   "outputs": [],
   "source": [
    "def dirichlet_categorical(A, counts, alpha_i):\n",
    "    total_count = sum(counts)  \n",
    "    prod_alpha_i = 1 \n",
    "    \n",
    "    for i in alpha_i:\n",
    "        prod_alpha_i = prod_alpha_i * gamma(i)\n",
    "    const = gamma(A) / prod_alpha_i\n",
    "    \n",
    "    num = 1 \n",
    "    for i in range(len(counts)):\n",
    "        num = num * gamma(counts[i] + alpha_i[i])\n",
    "        \n",
    "    denom = gamma(total_count + A)\n",
    "    \n",
    "    return const * (num / denom)"
   ]
  },
  {
   "cell_type": "code",
   "execution_count": 22,
   "id": "010f22b4",
   "metadata": {},
   "outputs": [],
   "source": [
    "def dirichlet_process_categorical(counts, alpha):\n",
    "    total_count = sum(counts)   \n",
    "    k = len(counts)\n",
    "    \n",
    "    const = gamma(alpha) * alpha**k\n",
    "    \n",
    "    num = 1 \n",
    "    for i in range(len(counts)):\n",
    "        num = num * gamma(counts[i])\n",
    "        \n",
    "    denom = gamma(total_count + alpha)\n",
    "    \n",
    "    return const * (num / denom)"
   ]
  },
  {
   "cell_type": "code",
   "execution_count": 23,
   "id": "8ca76df5",
   "metadata": {},
   "outputs": [
    {
     "data": {
      "text/plain": [
       "3.4821940359730384e-19"
      ]
     },
     "execution_count": 23,
     "metadata": {},
     "output_type": "execute_result"
    }
   ],
   "source": [
    "dirichlet_process_categorical(counts, alpha)"
   ]
  },
  {
   "cell_type": "code",
   "execution_count": 26,
   "id": "909a2715",
   "metadata": {},
   "outputs": [
    {
     "data": {
      "text/plain": [
       "1.679888550525177e-20"
      ]
     },
     "execution_count": 26,
     "metadata": {},
     "output_type": "execute_result"
    }
   ],
   "source": [
    "dirichlet_categorical(A, counts, alpha_i)"
   ]
  },
  {
   "cell_type": "code",
   "execution_count": null,
   "id": "0ef159bc",
   "metadata": {},
   "outputs": [],
   "source": []
  }
 ],
 "metadata": {
  "kernelspec": {
   "display_name": "Python 3 (ipykernel)",
   "language": "python",
   "name": "python3"
  },
  "language_info": {
   "codemirror_mode": {
    "name": "ipython",
    "version": 3
   },
   "file_extension": ".py",
   "mimetype": "text/x-python",
   "name": "python",
   "nbconvert_exporter": "python",
   "pygments_lexer": "ipython3",
   "version": "3.8.10"
  }
 },
 "nbformat": 4,
 "nbformat_minor": 5
}
