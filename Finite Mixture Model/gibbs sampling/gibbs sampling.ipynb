{
 "cells": [
  {
   "cell_type": "code",
   "execution_count": 1,
   "id": "dcc55b2f",
   "metadata": {},
   "outputs": [],
   "source": [
    "import numpy as np"
   ]
  },
  {
   "cell_type": "code",
   "execution_count": 3,
   "id": "f907da11",
   "metadata": {},
   "outputs": [],
   "source": [
    "def X_given_Y(y):\n",
    "    prob_y0 = 0.556\n",
    "    prob_y1 = 0.273\n",
    "    return np.random.choice(2, 1, p=[prob_y0, 1-prob_y0], replace=False)[0] if y == 0 else np.random.choice(2, 1, p=[prob_y1, 1-prob_y1], replace=False)[0]"
   ]
  },
  {
   "cell_type": "code",
   "execution_count": 4,
   "id": "6b1864ae",
   "metadata": {},
   "outputs": [],
   "source": [
    "def Y_given_X(x):\n",
    "    prob_x0 = 0.625\n",
    "    prob_x1 = 0.33\n",
    "    return np.random.choice(2, 1, p=[prob_x0, 1-prob_x0], replace=False)[0] if x == 0 else np.random.choice(2, 1, p=[prob_x1, 1-prob_x1], replace=False)[0]"
   ]
  },
  {
   "cell_type": "code",
   "execution_count": 5,
   "id": "7e25c9c3",
   "metadata": {},
   "outputs": [],
   "source": [
    "X = [1]\n",
    "Y = [1]\n",
    "\n",
    "for i in range(1, 100000):\n",
    "    X.append(X_given_Y(Y[-1]))\n",
    "    Y.append(Y_given_X(X[-1]))"
   ]
  },
  {
   "cell_type": "code",
   "execution_count": 6,
   "id": "02eb8d58",
   "metadata": {},
   "outputs": [],
   "source": [
    "count_X0_Y0 = 0\n",
    "count_X0_Y1 = 0\n",
    "count_X1_Y0 = 0\n",
    "count_X1_Y1 = 0\n",
    "\n",
    "for i in range(1, len(X)):\n",
    "    if X[i] == 0 and Y[i] == 0:\n",
    "        count_X0_Y0 += 1  \n",
    "        \n",
    "    if X[i] == 0 and Y[i] == 1:\n",
    "        count_X0_Y1 += 1            \n",
    "        \n",
    "    if X[i] == 1 and Y[i] == 0:\n",
    "        count_X1_Y0 += 1\n",
    "    \n",
    "    if X[i] == 1 and Y[i] == 1:\n",
    "        count_X1_Y1 += 1"
   ]
  },
  {
   "cell_type": "code",
   "execution_count": 8,
   "id": "022bc0a4",
   "metadata": {},
   "outputs": [
    {
     "name": "stdout",
     "output_type": "stream",
     "text": [
      "P(X=0, Y=0) 0.24939\n",
      "P(X=0, Y=1) 0.15043\n",
      "P(X=1, Y=0) 0.199\n",
      "P(X=1, Y=1) 0.40117\n"
     ]
    }
   ],
   "source": [
    "print(\"P(X=0, Y=0)\", count_X0_Y0/num)\n",
    "print(\"P(X=0, Y=1)\", count_X0_Y1/num)\n",
    "print(\"P(X=1, Y=0)\", count_X1_Y0/num)\n",
    "print(\"P(X=1, Y=1)\", count_X1_Y1/num)"
   ]
  }
 ],
 "metadata": {
  "kernelspec": {
   "display_name": "Python 3 (ipykernel)",
   "language": "python",
   "name": "python3"
  },
  "language_info": {
   "codemirror_mode": {
    "name": "ipython",
    "version": 3
   },
   "file_extension": ".py",
   "mimetype": "text/x-python",
   "name": "python",
   "nbconvert_exporter": "python",
   "pygments_lexer": "ipython3",
   "version": "3.8.10"
  }
 },
 "nbformat": 4,
 "nbformat_minor": 5
}
