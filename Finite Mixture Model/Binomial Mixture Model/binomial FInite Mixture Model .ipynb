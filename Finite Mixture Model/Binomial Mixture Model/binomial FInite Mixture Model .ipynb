{
 "cells": [
  {
   "cell_type": "code",
   "execution_count": 23,
   "id": "65d0b827",
   "metadata": {},
   "outputs": [],
   "source": [
    "import numpy as np\n",
    "import matplotlib.pyplot as plt\n",
    "from collections import Counter\n",
    "import itertools\n",
    "import random\n",
    "import pandas as pd\n",
    "import matplotlib \n",
    "import math\n",
    "\n",
    "matplotlib.rcParams['figure.figsize'] = (16, 16)"
   ]
  },
  {
   "cell_type": "code",
   "execution_count": 24,
   "id": "8d55e302",
   "metadata": {},
   "outputs": [],
   "source": [
    "total_toss = 900\n",
    "num_cluster = 2"
   ]
  },
  {
   "cell_type": "code",
   "execution_count": 26,
   "id": "9208b1ea",
   "metadata": {},
   "outputs": [],
   "source": [
    "params = [\n",
    "            {\"pi\": 0.4, \"theta\": 0.8},\n",
    "            {\"pi\": 0.6, \"theta\": 0.5},\n",
    "        ]"
   ]
  },
  {
   "cell_type": "code",
   "execution_count": 27,
   "id": "477338fb",
   "metadata": {},
   "outputs": [],
   "source": [
    "Z = [np.random.choice(num_cluster, 1, p=[params[i]['pi'] for i in range(num_cluster)])[0] for toss in range(total_toss)]\n",
    "data_dist = Counter(Z)"
   ]
  },
  {
   "cell_type": "code",
   "execution_count": 28,
   "id": "026fb95b",
   "metadata": {},
   "outputs": [],
   "source": [
    "N = 100\n",
    "X = [(np.random.binomial(N, params[r]['theta'], 1))[0] for r in Z]"
   ]
  },
  {
   "cell_type": "code",
   "execution_count": 29,
   "id": "f07d61d8",
   "metadata": {},
   "outputs": [],
   "source": [
    "def binomial_pdf(x, theta):\n",
    "    const = math.factorial(N) / (math.factorial(x) * math.factorial(N - x))\n",
    "    return const * theta**x * (1-theta)**(N-x)"
   ]
  },
  {
   "cell_type": "code",
   "execution_count": 30,
   "id": "d450a17a",
   "metadata": {},
   "outputs": [],
   "source": [
    "random_Z = [np.random.choice(num_cluster, 1, p=[1/num_cluster for i in range(num_cluster)])[0] for toss in range(total_toss)] "
   ]
  },
  {
   "cell_type": "code",
   "execution_count": 31,
   "id": "83ef1de1",
   "metadata": {},
   "outputs": [],
   "source": [
    "def generate_cluster(X, x_i, random_Z):\n",
    "    clusters = {}\n",
    "    for k in range(0, num_cluster):\n",
    "        clusters[k] = []\n",
    "\n",
    "    for (x, z_i) in zip(X, random_Z):\n",
    "        if x == x_i:\n",
    "          continue\n",
    "        clusters[z_i].append(x)\n",
    "    return clusters"
   ]
  },
  {
   "cell_type": "code",
   "execution_count": 32,
   "id": "25dfaae0",
   "metadata": {},
   "outputs": [],
   "source": [
    "def calc_prob(x, X, random_Z, random_Z_count):\n",
    "    clusters = generate_cluster(X, x, random_Z)\n",
    "    \n",
    "    prob = []\n",
    "    \n",
    "    for k in range(num_cluster):\n",
    "        prob_k = binomial_pdf(x, params[k][\"theta\"])\n",
    "        pr = ((random_Z_count[k] + A/num_cluster) / (A - 1 + len(X))) * prob_k\n",
    "        \n",
    "        prob.append(pr)\n",
    "    return prob"
   ]
  },
  {
   "cell_type": "code",
   "execution_count": 33,
   "id": "d44d3337",
   "metadata": {},
   "outputs": [],
   "source": [
    "import math\n",
    "A =0.1 \n",
    "\n",
    "total_likelihood = []\n",
    "\n",
    "for _ in range(50):\n",
    "    random_Z_count = Counter(random_Z)\n",
    "    \n",
    "    data_likelihood = []\n",
    "    for i, (x, z) in enumerate(zip(X, random_Z)):\n",
    "        prob = calc_prob(x, X, random_Z, random_Z_count)\n",
    "\n",
    "        norm_prob = [p/np.sum(prob) for p in prob]\n",
    "        random_Z[i] = np.random.choice(num_cluster, 1, p=norm_prob)[0]\n",
    "\n",
    "        data_likelihood.append(np.log(np.sum(prob)))\n",
    "    \n",
    "    total_likelihood.append(np.sum(data_likelihood))"
   ]
  },
  {
   "cell_type": "code",
   "execution_count": 22,
   "id": "fa2bf7d8",
   "metadata": {},
   "outputs": [
    {
     "data": {
      "image/png": "[encoded data removed]",
      "text/plain": [
       "<Figure size 1440x360 with 1 Axes>"
      ]
     },
     "metadata": {
      "needs_background": "light"
     },
     "output_type": "display_data"
    }
   ],
   "source": [
    "plt.figure(figsize=(20, 5))\n",
    "plt.plot(total_likelihood)\n",
    "plt.xlabel(\"Number of Iteration\")\n",
    "plt.ylabel(\"log p(x_i,z_i|X_-i, Z_-i, theta, alpha)\")\n",
    "plt.xticks([i for i in range(50)])\n",
    "\n",
    "plt.show()"
   ]
  }
 ],
 "metadata": {
  "kernelspec": {
   "display_name": "Python 3 (ipykernel)",
   "language": "python",
   "name": "python3"
  },
  "language_info": {
   "codemirror_mode": {
    "name": "ipython",
    "version": 3
   },
   "file_extension": ".py",
   "mimetype": "text/x-python",
   "name": "python",
   "nbconvert_exporter": "python",
   "pygments_lexer": "ipython3",
   "version": "3.8.10"
  }
 },
 "nbformat": 4,
 "nbformat_minor": 5
}
