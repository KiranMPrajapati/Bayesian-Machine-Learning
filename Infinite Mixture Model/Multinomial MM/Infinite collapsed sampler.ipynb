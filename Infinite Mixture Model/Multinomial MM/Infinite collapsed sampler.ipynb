{
 "cells": [
  {
   "cell_type": "code",
   "execution_count": 1,
   "id": "c2635323",
   "metadata": {},
   "outputs": [],
   "source": [
    "import numpy as np\n",
    "import matplotlib.pyplot as plt\n",
    "from collections import Counter\n",
    "import itertools\n",
    "import random\n",
    "import pandas as pd\n",
    "import matplotlib \n",
    "import math\n",
    "from functools import reduce\n",
    "\n",
    "\n",
    "matplotlib.rcParams['figure.figsize'] = (16, 16)"
   ]
  },
  {
   "cell_type": "code",
   "execution_count": 2,
   "id": "165ee529",
   "metadata": {},
   "outputs": [],
   "source": [
    "total_toss = 50\n",
    "num_cluster = 2\n",
    "total_experiment = 100"
   ]
  },
  {
   "cell_type": "code",
   "execution_count": 3,
   "id": "5e8978c9",
   "metadata": {},
   "outputs": [],
   "source": [
    "params = [\n",
    "            {\"pi\": 0.2, \"theta\": [0.1, 0.6, 0.3]},\n",
    "            {\"pi\": 0.8, \"theta\": [0.3, 0.2, 0.5]},\n",
    "        ]"
   ]
  },
  {
   "cell_type": "code",
   "execution_count": 4,
   "id": "ddc951aa",
   "metadata": {},
   "outputs": [],
   "source": [
    "def coin_toss(prob, total_toss):\n",
    "    result = []\n",
    "    for i in range(total_toss):\n",
    "        result.append(np.random.choice(len(prob), 1, p=prob)[0])\n",
    "    return result"
   ]
  },
  {
   "cell_type": "code",
   "execution_count": 5,
   "id": "42130f0e",
   "metadata": {},
   "outputs": [],
   "source": [
    "X = []\n",
    "Z = []\n",
    "\n",
    "for i in range(total_experiment):\n",
    "    coin_type = np.random.choice(len(params), 1, p=[params[0][\"pi\"], params[1][\"pi\"]])[0]\n",
    "    Z.append(coin_type)\n",
    "    \n",
    "    toss = coin_toss(params[coin_type][\"theta\"], total_toss)\n",
    "    X.append(toss)"
   ]
  },
  {
   "cell_type": "code",
   "execution_count": 6,
   "id": "2713dd23",
   "metadata": {},
   "outputs": [],
   "source": [
    "def multinomial_pdf(tosses, p):\n",
    "    count = Counter(tosses)\n",
    "    const = math.factorial(len(tosses)) / (math.factorial(count[0]) * math.factorial(count[1]))\n",
    "    return const * p[0]**count[0] * p[1]**count[1]"
   ]
  },
  {
   "cell_type": "code",
   "execution_count": 7,
   "id": "257a2a18",
   "metadata": {},
   "outputs": [],
   "source": [
    "# random_Z = np.random.choice(len(params), total_experiment, p=[1/num_cluster for i in range(num_cluster)])\n",
    "random_Z = np.array([])"
   ]
  },
  {
   "cell_type": "code",
   "execution_count": 8,
   "id": "23934dbe",
   "metadata": {},
   "outputs": [],
   "source": [
    "beta = [1, 1, 1]"
   ]
  },
  {
   "cell_type": "code",
   "execution_count": 9,
   "id": "aac5d0dc",
   "metadata": {},
   "outputs": [],
   "source": [
    "def test(xi, cluster):\n",
    "    xi_counts = Counter(xi)\n",
    "    xi_sum = len(xi)\n",
    "    \n",
    "    cluster_counts = Counter(cluster)\n",
    "    C = len(cluster)\n",
    "    B = sum(beta)\n",
    "    \n",
    "    num = 1\n",
    "    denom = 1 \n",
    "    \n",
    "    for k, v in cluster_counts.items():\n",
    "        if k not in xi_counts:\n",
    "            continue\n",
    "        \n",
    "        b = beta[k]\n",
    "        v = v + b\n",
    "        \n",
    "        n = xi_counts[k]\n",
    "        n_vals = [v+j for j in range(n)]\n",
    "        \n",
    "        n_temp = 1\n",
    "        for o in n_vals:\n",
    "            n_temp = n_temp * o\n",
    "        num = num * n_temp\n",
    "    \n",
    "    C = C + B - 1 \n",
    "    d_vals = [C+j for j in range(xi_sum)]\n",
    "    \n",
    "    d_temp = 1\n",
    "    for t in d_vals:\n",
    "        d_temp = d_temp * t\n",
    "    \n",
    "    return num/d_temp"
   ]
  },
  {
   "cell_type": "code",
   "execution_count": 10,
   "id": "fa01de6c",
   "metadata": {},
   "outputs": [],
   "source": [
    "A = 0.1\n",
    "\n",
    "def calc_prob(xi, random_Z, X):\n",
    "    prob = []\n",
    "    z_count = Counter(random_Z)\n",
    "    \n",
    "    clusters = {}\n",
    "    \n",
    "    A = 1\n",
    "    C = len(X)\n",
    "    \n",
    "    for i in range(num_cluster):\n",
    "        clusters[i] = []\n",
    "\n",
    "    for i, cx in enumerate(X):\n",
    "        if cx == xi:\n",
    "            continue\n",
    "        if len(random_Z) >= i:\n",
    "            clusters[random_Z[i]].extend(cx)\n",
    "        \n",
    "    for i in range(num_cluster):\n",
    "        prob_k = test(xi, clusters[i])\n",
    "        prob.append(((z_count[i]+ A/num_cluster)/(C + A - 1)) * prob_k) \n",
    "        \n",
    "    new_k = A / (A - 1 + C) * test(xi, [])\n",
    "    prob.append(new_k)\n",
    "        \n",
    "    return prob"
   ]
  },
  {
   "cell_type": "code",
   "execution_count": 1,
   "id": "27f2315e",
   "metadata": {},
   "outputs": [],
   "source": [
    "total_data_likelihood = []\n",
    "\n",
    "for j in range(20):\n",
    "    data_likelihood = []\n",
    "    for i in range(len(X)):\n",
    "        xi = X[i]\n",
    "        final_prob = calc_prob(xi, random_Z, X)\n",
    "        \n",
    "        total_prob = np.sum(final_prob)\n",
    "        random_Z = np.append(random_Z, np.random.choice(num_cluster+1, 1, p=[p/total_prob for p in final_prob])[0])\n",
    "        data_likelihood.append(np.log(np.sum(final_prob)))\n",
    "    total_data_likelihood.append(np.sum(data_likelihood))"
   ]
  },
  {
   "cell_type": "code",
   "execution_count": 12,
   "id": "e124ead4",
   "metadata": {},
   "outputs": [
    {
     "data": {
      "image/png": "[encoded data removed]",
      "text/plain": [
       "<Figure size 1440x360 with 1 Axes>"
      ]
     },
     "metadata": {
      "needs_background": "light"
     },
     "output_type": "display_data"
    }
   ],
   "source": [
    "plt.figure(figsize=(20, 5))\n",
    "plt.plot(total_data_likelihood)\n",
    "plt.xlabel(\"Number of Iteration\")\n",
    "plt.ylabel(\"log p(x_i,z_i|X_-i, Z_-i, theta, alpha)\")\n",
    "plt.xticks([i for i in range(len(total_data_likelihood))])\n",
    "plt.show()"
   ]
  },
  {
   "cell_type": "code",
   "execution_count": 13,
   "id": "1c13265d",
   "metadata": {},
   "outputs": [],
   "source": [
    "df_list = []\n",
    "for d, new_z, a_z in zip(X, random_Z, Z):\n",
    "    df_list.append([d, new_z, a_z])"
   ]
  },
  {
   "cell_type": "code",
   "execution_count": 14,
   "id": "d8d5e8fd",
   "metadata": {},
   "outputs": [],
   "source": [
    "frame = pd.DataFrame(df_list, columns = [\"X\", \"model_label\", \"actual_label\"])"
   ]
  },
  {
   "cell_type": "code",
   "execution_count": 15,
   "id": "dc05be38",
   "metadata": {},
   "outputs": [
    {
     "data": {
      "text/html": [
       "<div>\n",
       "<style scoped>\n",
       "    .dataframe tbody tr th:only-of-type {\n",
       "        vertical-align: middle;\n",
       "    }\n",
       "\n",
       "    .dataframe tbody tr th {\n",
       "        vertical-align: top;\n",
       "    }\n",
       "\n",
       "    .dataframe thead th {\n",
       "        text-align: right;\n",
       "    }\n",
       "</style>\n",
       "<table border=\"1\" class=\"dataframe\">\n",
       "  <thead>\n",
       "    <tr style=\"text-align: right;\">\n",
       "      <th></th>\n",
       "      <th>X</th>\n",
       "      <th>model_label</th>\n",
       "      <th>actual_label</th>\n",
       "    </tr>\n",
       "  </thead>\n",
       "  <tbody>\n",
       "    <tr>\n",
       "      <th>0</th>\n",
       "      <td>[1, 1, 1, 0, 2, 1, 1, 2, 1, 0, 2, 1, 1, 1, 1, ...</td>\n",
       "      <td>0.0</td>\n",
       "      <td>0</td>\n",
       "    </tr>\n",
       "    <tr>\n",
       "      <th>1</th>\n",
       "      <td>[2, 2, 2, 1, 1, 1, 0, 0, 0, 1, 2, 0, 0, 0, 1, ...</td>\n",
       "      <td>0.0</td>\n",
       "      <td>1</td>\n",
       "    </tr>\n",
       "    <tr>\n",
       "      <th>2</th>\n",
       "      <td>[2, 0, 2, 2, 0, 1, 2, 0, 0, 0, 0, 2, 0, 0, 2, ...</td>\n",
       "      <td>0.0</td>\n",
       "      <td>1</td>\n",
       "    </tr>\n",
       "    <tr>\n",
       "      <th>3</th>\n",
       "      <td>[0, 0, 1, 1, 0, 2, 2, 1, 2, 2, 1, 0, 2, 1, 2, ...</td>\n",
       "      <td>0.0</td>\n",
       "      <td>1</td>\n",
       "    </tr>\n",
       "    <tr>\n",
       "      <th>4</th>\n",
       "      <td>[1, 1, 2, 2, 0, 1, 0, 1, 0, 2, 0, 1, 2, 2, 0, ...</td>\n",
       "      <td>0.0</td>\n",
       "      <td>1</td>\n",
       "    </tr>\n",
       "    <tr>\n",
       "      <th>...</th>\n",
       "      <td>...</td>\n",
       "      <td>...</td>\n",
       "      <td>...</td>\n",
       "    </tr>\n",
       "    <tr>\n",
       "      <th>95</th>\n",
       "      <td>[0, 2, 1, 2, 2, 1, 0, 0, 1, 0, 2, 2, 2, 1, 2, ...</td>\n",
       "      <td>0.0</td>\n",
       "      <td>1</td>\n",
       "    </tr>\n",
       "    <tr>\n",
       "      <th>96</th>\n",
       "      <td>[0, 0, 2, 2, 2, 2, 1, 1, 2, 1, 0, 0, 0, 2, 0, ...</td>\n",
       "      <td>0.0</td>\n",
       "      <td>1</td>\n",
       "    </tr>\n",
       "    <tr>\n",
       "      <th>97</th>\n",
       "      <td>[1, 2, 1, 2, 0, 2, 1, 0, 2, 1, 0, 2, 2, 1, 0, ...</td>\n",
       "      <td>0.0</td>\n",
       "      <td>1</td>\n",
       "    </tr>\n",
       "    <tr>\n",
       "      <th>98</th>\n",
       "      <td>[2, 1, 0, 2, 2, 1, 1, 2, 0, 0, 0, 1, 0, 2, 0, ...</td>\n",
       "      <td>0.0</td>\n",
       "      <td>1</td>\n",
       "    </tr>\n",
       "    <tr>\n",
       "      <th>99</th>\n",
       "      <td>[0, 1, 2, 1, 1, 1, 1, 1, 1, 2, 1, 2, 1, 1, 2, ...</td>\n",
       "      <td>0.0</td>\n",
       "      <td>0</td>\n",
       "    </tr>\n",
       "  </tbody>\n",
       "</table>\n",
       "<p>100 rows × 3 columns</p>\n",
       "</div>"
      ],
      "text/plain": [
       "                                                    X  model_label  \\\n",
       "0   [1, 1, 1, 0, 2, 1, 1, 2, 1, 0, 2, 1, 1, 1, 1, ...          0.0   \n",
       "1   [2, 2, 2, 1, 1, 1, 0, 0, 0, 1, 2, 0, 0, 0, 1, ...          0.0   \n",
       "2   [2, 0, 2, 2, 0, 1, 2, 0, 0, 0, 0, 2, 0, 0, 2, ...          0.0   \n",
       "3   [0, 0, 1, 1, 0, 2, 2, 1, 2, 2, 1, 0, 2, 1, 2, ...          0.0   \n",
       "4   [1, 1, 2, 2, 0, 1, 0, 1, 0, 2, 0, 1, 2, 2, 0, ...          0.0   \n",
       "..                                                ...          ...   \n",
       "95  [0, 2, 1, 2, 2, 1, 0, 0, 1, 0, 2, 2, 2, 1, 2, ...          0.0   \n",
       "96  [0, 0, 2, 2, 2, 2, 1, 1, 2, 1, 0, 0, 0, 2, 0, ...          0.0   \n",
       "97  [1, 2, 1, 2, 0, 2, 1, 0, 2, 1, 0, 2, 2, 1, 0, ...          0.0   \n",
       "98  [2, 1, 0, 2, 2, 1, 1, 2, 0, 0, 0, 1, 0, 2, 0, ...          0.0   \n",
       "99  [0, 1, 2, 1, 1, 1, 1, 1, 1, 2, 1, 2, 1, 1, 2, ...          0.0   \n",
       "\n",
       "    actual_label  \n",
       "0              0  \n",
       "1              1  \n",
       "2              1  \n",
       "3              1  \n",
       "4              1  \n",
       "..           ...  \n",
       "95             1  \n",
       "96             1  \n",
       "97             1  \n",
       "98             1  \n",
       "99             0  \n",
       "\n",
       "[100 rows x 3 columns]"
      ]
     },
     "execution_count": 15,
     "metadata": {},
     "output_type": "execute_result"
    }
   ],
   "source": [
    "frame"
   ]
  },
  {
   "cell_type": "code",
   "execution_count": 16,
   "id": "de120d18",
   "metadata": {},
   "outputs": [],
   "source": [
    "frame['model_label==actual_label'] = frame['model_label'] == frame['actual_label']"
   ]
  },
  {
   "cell_type": "code",
   "execution_count": 17,
   "id": "65c88e69",
   "metadata": {},
   "outputs": [
    {
     "data": {
      "text/plain": [
       "False    83\n",
       "True     17\n",
       "Name: model_label==actual_label, dtype: int64"
      ]
     },
     "execution_count": 17,
     "metadata": {},
     "output_type": "execute_result"
    }
   ],
   "source": [
    "frame['model_label==actual_label'].value_counts()"
   ]
  },
  {
   "cell_type": "code",
   "execution_count": null,
   "id": "1cab0b0b",
   "metadata": {},
   "outputs": [],
   "source": []
  }
 ],
 "metadata": {
  "kernelspec": {
   "display_name": "Python 3 (ipykernel)",
   "language": "python",
   "name": "python3"
  },
  "language_info": {
   "codemirror_mode": {
    "name": "ipython",
    "version": 3
   },
   "file_extension": ".py",
   "mimetype": "text/x-python",
   "name": "python",
   "nbconvert_exporter": "python",
   "pygments_lexer": "ipython3",
   "version": "3.8.10"
  }
 },
 "nbformat": 4,
 "nbformat_minor": 5
}
